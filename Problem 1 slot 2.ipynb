{
 "cells": [
  {
   "cell_type": "code",
   "execution_count": null,
   "id": "8057f78c-0c1d-401d-a4c4-c44ebd2ee901",
   "metadata": {
    "tags": []
   },
   "outputs": [],
   "source": [
    "# Nhập giá trị của mảng\n",
    "arr = list(map(int, input(\"Nhập giá trị của mảng: \").split()))\n",
    "\n",
    "# Tính giá trị trung bình của mảng\n",
    "avg = sum(arr) / len(arr)\n",
    "print(\"Giá trị trung bình của mảng\")\n",
    "      \n",
    "# Tìm vị trí của phần tử có giá trị gần giá trị trung bình nhất của mảng\n",
    "min_diff = float('inf')\n",
    "min_index = -1\n",
    "for i in range(len(arr)):\n",
    "    diff = abs(arr[i] - avg)\n",
    "    if diff < min_diff:\n",
    "        min_diff = diff\n",
    "        min_index = i\n",
    "\n",
    "# Hiển thị kết quả\n",
    "print(f\"Vị trí của phần tử có giá trị gần giá trị trung bình nhất của mảng là {min_index}.\")\n",
    "\n"
   ]
  },
  {
   "cell_type": "code",
   "execution_count": null,
   "id": "dad6fb22-88dd-4f5b-b7c8-a14ddd715250",
   "metadata": {},
   "outputs": [],
   "source": []
  }
 ],
 "metadata": {
  "kernelspec": {
   "display_name": "Python 3 (ipykernel)",
   "language": "python",
   "name": "python3"
  },
  "language_info": {
   "codemirror_mode": {
    "name": "ipython",
    "version": 3
   },
   "file_extension": ".py",
   "mimetype": "text/x-python",
   "name": "python",
   "nbconvert_exporter": "python",
   "pygments_lexer": "ipython3",
   "version": "3.11.5"
  }
 },
 "nbformat": 4,
 "nbformat_minor": 5
}
